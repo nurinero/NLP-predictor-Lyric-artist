{
 "cells": [
  {
   "cell_type": "markdown",
   "id": "d6ae78d2-be27-4846-8eb1-b6ba49d61e21",
   "metadata": {
    "tags": []
   },
   "source": [
    "## Define Business Goal :\n",
    "In this project, we will build a text classification model on song lyrics. The task is to predict the artist from a piece of text. To train such a model, you first need to collect your own lyrics dataset:\n",
    "* Download a HTML page with links to songs\n",
    "* Extract hyperlinks of song pages\n",
    "* Download and extract the song lyrics\n",
    "* Vectorize the text using the Bag Of Words method\n",
    "* train a classification model that predicts the artist from a piece of text\n",
    "* refactor the code into functions\n",
    "* Write a simple command-line interface for the program\n",
    "* upload your code to GitHub\n",
    "#### Workflow\n",
    "1) Download the lyrics in `txt` files (cleaned - web scraping)\n",
    "2) Transform lyrics to a matrix (Bag of Words)\n",
    "3) Train a model and save the trained model on your hard drive\n",
    "4) Write a Python program for the prediction"
   ]
  },
  {
   "cell_type": "markdown",
   "id": "c42454ad-578e-4850-bba8-ec2019cc7e12",
   "metadata": {},
   "source": [
    "![nuri](week4_project.png)"
   ]
  },
  {
   "cell_type": "code",
   "execution_count": 1,
   "id": "932c81e5-2586-45a1-84a3-0b368271a93f",
   "metadata": {
    "tags": []
   },
   "outputs": [],
   "source": [
    "import pandas as pd\n",
    "import numpy as np\n",
    "#ploting\n",
    "import seaborn as sns\n",
    "import matplotlib.pyplot as plt\n",
    "#Web Scraping and time timer \n",
    "import requests\n",
    "import time \n",
    "from bs4 import BeautifulSoup\n",
    "# oprastin system mangment File\n",
    "import os\n",
    "#Regex in python\n",
    "import re\n",
    "# Split Data\n",
    "from sklearn.model_selection import train_test_split,GridSearchCV\n",
    "#feature_extraction\n",
    "from sklearn.feature_extraction.text import CountVectorizer,TfidfVectorizer\n",
    "from sklearn.feature_selection import SelectKBest, f_classif\n",
    "from sklearn.pipeline import make_pipeline\n",
    "# Feature Engineering \n",
    "from sklearn.compose import ColumnTransformer\n",
    "#modle\n",
    "from sklearn.dummy import DummyClassifier\n",
    "from sklearn.compose import TransformedTargetRegressor\n",
    "from sklearn.linear_model import LogisticRegression\n",
    "from sklearn.tree import DecisionTreeClassifier,plot_tree\n",
    "from sklearn.ensemble import RandomForestClassifier   \n",
    "#Evaluate model\n",
    "from sklearn import metrics \n",
    "from sklearn.metrics import classification_report, r2_score,mean_squared_error,mean_absolute_error, mean_squared_log_error,confusion_matrix\n",
    "#Model Save\n",
    "import joblib as jb"
   ]
  },
  {
   "cell_type": "markdown",
   "id": "172a27e4-55e3-43a8-8291-e45ba2170dbd",
   "metadata": {
    "tags": []
   },
   "source": [
    "##  discrbtion of the projuct stepes"
   ]
  },
  {
   "cell_type": "markdown",
   "id": "90f86eb2-bc6e-468f-ab78-bb4462e239d4",
   "metadata": {
    "tags": []
   },
   "source": [
    "##### initialization the name of the artists one and Tow"
   ]
  },
  {
   "cell_type": "markdown",
   "id": "d19fc4b3-4a47-4f4e-80d6-7e583bd9ef83",
   "metadata": {
    "tags": []
   },
   "source": [
    "##### Scraping the artist to git all the lyrics URLs:\n",
    "##### Do that:\n",
    "* clear vision about what do u want to Scraping and the Data that u want to have .\n",
    "* Recpict the siervier by gif it rest Time.\n",
    "* save your file in orgizing way \n",
    "##### Do'not do that:\n",
    "* make a dictionary to filter the duplicates by the name of the song.\n",
    "\n",
    "\n"
   ]
  },
  {
   "cell_type": "markdown",
   "id": "6783e873-cecb-41a4-976f-eced1ebce033",
   "metadata": {
    "tags": []
   },
   "source": [
    "##### Scraping all the artist lyrics links one by one :\n",
    "##### Do that:\n",
    "* Act like humen .\n",
    "* Recpict the siervier by gif it rest Time.\n",
    "* save your file in orgizing way.\n",
    "* clean and git all the artist lyrics in one list.\n",
    "* make some if statement to devoid problems each as (empty lyrics content .etc).\n",
    "##### Do'not do that:\n",
    "* do'not ( Scraping --> BeautifulSoup--> save ) do ( Scraping --> save -->BeautifulSoup) safe and fast\n"
   ]
  },
  {
   "cell_type": "markdown",
   "id": "2b1d38cf-bb3a-469e-b840-92719f884310",
   "metadata": {},
   "source": [
    "### Save lyrics List "
   ]
  },
  {
   "cell_type": "markdown",
   "id": "7e4959b6-45a8-4744-baad-68513ecb13a2",
   "metadata": {},
   "source": [
    "### Split Data to (Train-Validation\"Test\")"
   ]
  },
  {
   "cell_type": "markdown",
   "id": "74159020-f168-4ea8-bacc-72c92314a771",
   "metadata": {},
   "source": [
    "##### Do that:\n",
    "* when you use CountVectorizer you have to fit the data with x_tran as arry not as DataFrame\n",
    "##### Do'not do that:\n",
    "* do'not ( CountVectorizer --> Split ) do ( Split --> CountVectorizer) .\n",
    "* do'not  fit x_test just transform.\n",
    "\n"
   ]
  },
  {
   "cell_type": "markdown",
   "id": "0a44a114-bec4-4450-8c87-464b6065a4be",
   "metadata": {},
   "source": [
    "### Useing pipeline with TF-IDF by different method"
   ]
  },
  {
   "cell_type": "code",
   "execution_count": null,
   "id": "ece4265e-355b-4538-ae6a-a0a0d3ea54d6",
   "metadata": {
    "jupyter": {
     "source_hidden": true
    },
    "tags": []
   },
   "outputs": [
    {
     "name": "stdout",
     "output_type": "stream",
     "text": [
      "Score train: 0.9285714285714286\n",
      "Score test: 0.9553571428571429\n"
     ]
    },
    {
     "data": {
      "image/png": "[encoded data removed]",
      "text/plain": [
       "<Figure size 640x480 with 1 Axes>"
      ]
     },
     "metadata": {},
     "output_type": "display_data"
    },
    {
     "data": {
      "image/png": "[encoded data removed]",
      "text/plain": [
       "<Figure size 640x480 with 1 Axes>"
      ]
     },
     "metadata": {},
     "output_type": "display_data"
    }
   ],
   "source": [
    "plot_confusion_matrix(confusion_matrix(y_train,(pipeline.predict(x_train[0].values))))\n",
    "print(f'Score train: {pip_R_Forest.score(x_train[0].values,y_train)}')\n",
    "plot_confusion_matrix(confusion_matrix(y_test,(pipeline.predict(x_test[0].values))))\n",
    "print(f'Score test: {pipeline.score(x_test[0].values,y_test)}')"
   ]
  },
  {
   "cell_type": "markdown",
   "id": "35d3e719-84de-4c05-8bb1-d296b8951b3b",
   "metadata": {
    "tags": []
   },
   "source": [
    "## Get the Data"
   ]
  },
  {
   "cell_type": "markdown",
   "id": "37004ca3-fcc1-44e2-9e2e-7f90abe240a6",
   "metadata": {
    "tags": []
   },
   "source": [
    "### Finctions "
   ]
  },
  {
   "cell_type": "code",
   "execution_count": 180,
   "id": "35a1059a-0f18-4cc5-ab33-52874bb8a83d",
   "metadata": {
    "tags": []
   },
   "outputs": [],
   "source": [
    "# this calss for web Scraping lyrics in https://www.lyrics.com by the artist page\n",
    "class Scraping:\n",
    "    \n",
    "    def __init__(self,artist_name):\n",
    "        self.web_URL='https://www.lyrics.com'\n",
    "        self.artist_name=artist_name\n",
    "        self.artist_link=self.web_URL+artist_link[artist_name]\n",
    "    \n",
    "#Scraping the artist to git all the lyrics URLs    \n",
    "    def request_artist_page(self):\n",
    "        self.lyrics_URL_dictionary={}\n",
    "        response = requests.get(self.artist_link)\n",
    "        artist_page = BeautifulSoup(markup=response.text,features=\"html.parser\")\n",
    "        artist_lyrics_Urls=artist_page.find_all(name=\"a\", href=True)\n",
    "        lyrics_dict={}\n",
    "        for lyrics_Url in artist_lyrics_Urls:\n",
    "            if lyrics_Url['href'].startswith('/lyric') :#and self.artist_name in  lyrics_Url['href']:\n",
    "                self.lyrics_URL_dictionary[lyrics_Url.text] = self.web_URL+ lyrics_Url['href']# make a dictionary to filter the duplicates by the name of the song \n",
    "        return  self.lyrics_URL_dictionary\n",
    "    \n",
    "#Scraping all the artist lyrics links one by one \n",
    "    def request_artist_lyrics_pages(self,lyrics_URL_dictionary):\n",
    "        self.art_lyrics_list=[]\n",
    "        \n",
    "        for n, url in enumerate(lyrics_URL_dictionary.values()):\n",
    "            head = {'User-agent': 'Mozilla/5.0 (X11; Linux i686; rv:2.0b10) Gecko/20100101 Firefox/4.0b10'}\n",
    "            lyrics_response = requests.get(url, headers=head)\n",
    "            with open(f'{self.artist_name}_{n}.txt', 'w') as my_file:\n",
    "                my_file.write(lyrics_response.text)\n",
    "            time.sleep(np.random.random())  # waiting time in seconds     \n",
    "            # clean and git all the artist lyrics in one list\n",
    "            # make if stitment to devoide the empty lyrics content            \n",
    "            with open(file=f'{self.artist_name}_{n}.txt',mode= 'r') as my_file:\n",
    "                #lyrics_html_read = file.read()\n",
    "                lyrics_soup = BeautifulSoup(markup=my_file.read(),features=\"html.parser\")\n",
    "                lyrics_text=lyrics_soup.find(name=\"pre\",attrs={\"id\":\"lyric-body-text\"})\n",
    "                if lyrics_text:\n",
    "                    self.art_lyrics_list.append(lyrics_text.get_text())\n",
    "        return  self.art_lyrics_list"
   ]
  },
  {
   "cell_type": "code",
   "execution_count": 181,
   "id": "c39b53f6-ca93-42d8-b6fa-0d6e1cfeb7b2",
   "metadata": {
    "jupyter": {
     "source_hidden": true
    },
    "tags": []
   },
   "outputs": [],
   "source": [
    "def plot_confusion_matrix(confusion_matrix):\n",
    "    \"\"\"It plots the confusion matrix as heatmap\n",
    "    \n",
    "    Parameters:\n",
    "    ----------\n",
    "    confusion_matrix: numpyarray\n",
    "    \"\"\"\n",
    "    fig, ax = plt.subplots()\n",
    "    sns.heatmap(\n",
    "        confusion_matrix, \n",
    "        annot=True, fmt = \"d\",\n",
    "        cbar=False, cmap=\"viridis_r\", \n",
    "        ax=ax\n",
    "    )\n",
    "    ax.set_ylabel(\"True label\")\n",
    "    ax.set_xlabel(\"Pred Label\");"
   ]
  },
  {
   "cell_type": "markdown",
   "id": "e91b4585-ef27-4562-9b87-4409a22cd742",
   "metadata": {
    "tags": []
   },
   "source": [
    "### Run this code"
   ]
  },
  {
   "cell_type": "code",
   "execution_count": 3,
   "id": "b7808a46-5a0e-4f54-b3dc-09e57de9d3bf",
   "metadata": {},
   "outputs": [],
   "source": [
    "artist_name=('whitney_Houston','Bob_Marley')\n",
    "artist_link={'whitney_Houston':'/artist/Whitney-Houston/4519','Bob_Marley':'/artist/Bob-Marley/2907'}"
   ]
  },
  {
   "cell_type": "markdown",
   "id": "44230958-d7e3-4cab-8fb5-eee7d2c60a54",
   "metadata": {
    "tags": []
   },
   "source": [
    "#### Artist _one"
   ]
  },
  {
   "cell_type": "code",
   "execution_count": 4,
   "id": "dbbafb56-7d1e-4217-86a1-0f5093fe1202",
   "metadata": {},
   "outputs": [],
   "source": [
    "artist=Scraping('whitney_Houston')"
   ]
  },
  {
   "cell_type": "code",
   "execution_count": 5,
   "id": "3e2742f9-6db0-48d9-8727-53d2ba01cdf8",
   "metadata": {},
   "outputs": [],
   "source": [
    "lyrics_URLs=artist.request_artist_page()"
   ]
  },
  {
   "cell_type": "code",
   "execution_count": 6,
   "id": "2ca14be7-0351-4cbd-8ff1-90cc2490114c",
   "metadata": {
    "tags": []
   },
   "outputs": [],
   "source": [
    "artist_1_list=artist.request_artist_lyrics_pages(lyrics_URLs)"
   ]
  },
  {
   "cell_type": "code",
   "execution_count": 7,
   "id": "79a299fd-b140-4c43-9596-28276e301110",
   "metadata": {
    "tags": []
   },
   "outputs": [],
   "source": [
    "len(artist_1_list)"
   ]
  },
  {
   "cell_type": "markdown",
   "id": "f31bb29f-5f1a-4f74-a3db-04195d9d9603",
   "metadata": {
    "jp-MarkdownHeadingCollapsed": true,
    "tags": []
   },
   "source": [
    "#### Artist _Two"
   ]
  },
  {
   "cell_type": "code",
   "execution_count": 8,
   "id": "6f180f3b-f5fa-4db1-b4f7-172b8f1966d7",
   "metadata": {},
   "outputs": [],
   "source": [
    "artist=Scraping('Bob_Marley')"
   ]
  },
  {
   "cell_type": "code",
   "execution_count": 9,
   "id": "265d1a92-25b0-40d5-a51c-6e8068206601",
   "metadata": {},
   "outputs": [],
   "source": [
    "lyrics_URLs=artist.request_artist_page()"
   ]
  },
  {
   "cell_type": "code",
   "execution_count": 10,
   "id": "2da06c6a-87cd-48ec-93cd-26b72f7d16a2",
   "metadata": {},
   "outputs": [],
   "source": [
    "artist_2_list=artist.request_artist_lyrics_pages(lyrics_URLs)"
   ]
  },
  {
   "cell_type": "code",
   "execution_count": 11,
   "id": "96cbb704-efee-4210-8f82-164d246f73dd",
   "metadata": {
    "tags": []
   },
   "outputs": [],
   "source": [
    "len(artist_2_list)"
   ]
  },
  {
   "cell_type": "code",
   "execution_count": 12,
   "id": "8632301d-4be4-40de-bce2-74edfe1217eb",
   "metadata": {},
   "outputs": [],
   "source": [
    "artists_lyrics_list=artist_1_list+artist_2_list[0:280]"
   ]
  },
  {
   "cell_type": "code",
   "execution_count": 13,
   "id": "5d9240fd-588d-44f9-b1a7-17ee617fc65a",
   "metadata": {},
   "outputs": [],
   "source": [
    "len(artists_lyrics_list)"
   ]
  },
  {
   "cell_type": "markdown",
   "id": "e06543db-730c-4810-ad76-7ff5959778c8",
   "metadata": {
    "tags": []
   },
   "source": [
    "### Save lyrics List "
   ]
  },
  {
   "cell_type": "code",
   "execution_count": 14,
   "id": "b775ca5a-660d-4471-b159-75589fb0394c",
   "metadata": {},
   "outputs": [],
   "source": [
    "jb.dump(artists_lyrics_list,'Saved_artists_lyrics_list.sav');"
   ]
  },
  {
   "cell_type": "code",
   "execution_count": 60,
   "id": "1d97dfed-0103-4456-8633-4eabc04e9091",
   "metadata": {},
   "outputs": [],
   "source": [
    "artists_lyrics_list_jb=jb.load('Saved_artists_lyrics_list.sav')"
   ]
  },
  {
   "cell_type": "markdown",
   "id": "6cd7dc50-770d-4e90-b5b4-d3b00363b9b2",
   "metadata": {
    "jp-MarkdownHeadingCollapsed": true,
    "tags": []
   },
   "source": [
    "## Split Data to (Train-Validation\"Test\")"
   ]
  },
  {
   "cell_type": "code",
   "execution_count": 61,
   "id": "cb3df94d-680b-4766-9599-250e1074f4c8",
   "metadata": {},
   "outputs": [
    {
     "data": {
      "text/plain": [
       "(560, 1)"
      ]
     },
     "execution_count": 61,
     "metadata": {},
     "output_type": "execute_result"
    }
   ],
   "source": [
    "artists_lyrics_list_DF=pd.DataFrame(artists_lyrics_list_jb)\n",
    "artists_lyrics_list_DF.shape"
   ]
  },
  {
   "cell_type": "code",
   "execution_count": 62,
   "id": "cccca288-3319-4d0c-a12c-9811c0a41c52",
   "metadata": {},
   "outputs": [
    {
     "data": {
      "text/plain": [
       "560"
      ]
     },
     "execution_count": 62,
     "metadata": {},
     "output_type": "execute_result"
    }
   ],
   "source": [
    "#x = x_bow_sklearn.copy()\n",
    "y= pd.Series([1] * int(len (artists_lyrics_list_jb)/2) + [0] * abs (len(artists_lyrics_list_jb)-int(len(artists_lyrics_list_jb)/2)))\n",
    "len(y)"
   ]
  },
  {
   "cell_type": "code",
   "execution_count": 63,
   "id": "f8ac4985-9ed2-4d2e-bb8d-00441a813825",
   "metadata": {},
   "outputs": [
    {
     "data": {
      "text/plain": [
       "((448, 1), (448,), (112, 1), (112,))"
      ]
     },
     "execution_count": 63,
     "metadata": {},
     "output_type": "execute_result"
    }
   ],
   "source": [
    "x_train, x_test, y_train, y_test = train_test_split(artists_lyrics_list_DF,y, test_size = 0.2,random_state=10000)\n",
    "x_train.shape,y_train.shape,x_test.shape,y_test.shape\n"
   ]
  },
  {
   "cell_type": "code",
   "execution_count": 84,
   "id": "28c9be67-1a58-48b0-8111-868ac7de7aa8",
   "metadata": {},
   "outputs": [
    {
     "data": {
      "text/plain": [
       "pandas.core.series.Series"
      ]
     },
     "execution_count": 84,
     "metadata": {},
     "output_type": "execute_result"
    }
   ],
   "source": [
    "type (x_train[0])"
   ]
  },
  {
   "cell_type": "code",
   "execution_count": 65,
   "id": "bfc06a6f-ee2e-4b24-9432-05ec9d768d30",
   "metadata": {},
   "outputs": [
    {
     "data": {
      "text/plain": [
       "numpy.ndarray"
      ]
     },
     "execution_count": 65,
     "metadata": {},
     "output_type": "execute_result"
    }
   ],
   "source": [
    "type (x_test[0].values)"
   ]
  },
  {
   "cell_type": "markdown",
   "id": "0e6c7a7f-0936-4de1-a066-94a0b6d26e70",
   "metadata": {
    "tags": []
   },
   "source": [
    "##  useing Sklearn CountVectorizer"
   ]
  },
  {
   "cell_type": "markdown",
   "id": "6c2b2934-97b2-426f-bc29-ee63354ee4de",
   "metadata": {},
   "source": [
    "* if I make CountVectorizer for the training site and test manual it will be broken because it is making a different number of features in each of them\n",
    "* please make only transform for x_test to have the same features as x_train when we predict"
   ]
  },
  {
   "cell_type": "code",
   "execution_count": 66,
   "id": "963ed895-ea00-4738-b99b-dc67682cde39",
   "metadata": {},
   "outputs": [
    {
     "data": {
      "text/plain": [
       "(448, 3126)"
      ]
     },
     "execution_count": 66,
     "metadata": {},
     "output_type": "execute_result"
    }
   ],
   "source": [
    "vectorizer = CountVectorizer(lowercase=True, stop_words='english', token_pattern='[A-Za-z]+', ngram_range=(1,1))\n",
    "x_cv= vectorizer.fit_transform(x_train[0].values)#note here that vectorizer.fit alywse take arry or list not DataFram\n",
    "x_cv_train= pd.DataFrame(x_cv.toarray(), columns=vectorizer.get_feature_names_out())\n",
    "x_cv_train.shape"
   ]
  },
  {
   "cell_type": "code",
   "execution_count": 67,
   "id": "c5008665-dc7e-4858-b575-42a19d398122",
   "metadata": {},
   "outputs": [
    {
     "data": {
      "text/plain": [
       "(448,)"
      ]
     },
     "execution_count": 67,
     "metadata": {},
     "output_type": "execute_result"
    }
   ],
   "source": [
    "y_train.shape"
   ]
  },
  {
   "cell_type": "code",
   "execution_count": 68,
   "id": "3e942788-5884-4b3a-bafb-bb68946ab5a4",
   "metadata": {},
   "outputs": [
    {
     "data": {
      "text/plain": [
       "(112, 3126)"
      ]
     },
     "execution_count": 68,
     "metadata": {},
     "output_type": "execute_result"
    }
   ],
   "source": [
    "x_cv_t = vectorizer.transform(x_test[0].values)#note here that vectorizer.fit alywse take arry or list not DataFram\n",
    "x_cv_test= pd.DataFrame(x_cv_t.toarray(), columns=vectorizer.get_feature_names_out())\n",
    "x_cv_test.shape"
   ]
  },
  {
   "cell_type": "code",
   "execution_count": 69,
   "id": "f5805c48-f7a1-46a1-b568-5e9dab241e44",
   "metadata": {},
   "outputs": [],
   "source": [
    "logreg_cv = LogisticRegression()"
   ]
  },
  {
   "cell_type": "code",
   "execution_count": 70,
   "id": "5e168987-66b4-4c90-b4b5-3020c6f3ead7",
   "metadata": {},
   "outputs": [
    {
     "data": {
      "text/html": [
       "<style>#sk-container-id-6 {color: black;background-color: white;}#sk-container-id-6 pre{padding: 0;}#sk-container-id-6 div.sk-toggleable {background-color: white;}#sk-container-id-6 label.sk-toggleable__label {cursor: pointer;display: block;width: 100%;margin-bottom: 0;padding: 0.3em;box-sizing: border-box;text-align: center;}#sk-container-id-6 label.sk-toggleable__label-arrow:before {content: \"▸\";float: left;margin-right: 0.25em;color: #696969;}#sk-container-id-6 label.sk-toggleable__label-arrow:hover:before {color: black;}#sk-container-id-6 div.sk-estimator:hover label.sk-toggleable__label-arrow:before {color: black;}#sk-container-id-6 div.sk-toggleable__content {max-height: 0;max-width: 0;overflow: hidden;text-align: left;background-color: #f0f8ff;}#sk-container-id-6 div.sk-toggleable__content pre {margin: 0.2em;color: black;border-radius: 0.25em;background-color: #f0f8ff;}#sk-container-id-6 input.sk-toggleable__control:checked~div.sk-toggleable__content {max-height: 200px;max-width: 100%;overflow: auto;}#sk-container-id-6 input.sk-toggleable__control:checked~label.sk-toggleable__label-arrow:before {content: \"▾\";}#sk-container-id-6 div.sk-estimator input.sk-toggleable__control:checked~label.sk-toggleable__label {background-color: #d4ebff;}#sk-container-id-6 div.sk-label input.sk-toggleable__control:checked~label.sk-toggleable__label {background-color: #d4ebff;}#sk-container-id-6 input.sk-hidden--visually {border: 0;clip: rect(1px 1px 1px 1px);clip: rect(1px, 1px, 1px, 1px);height: 1px;margin: -1px;overflow: hidden;padding: 0;position: absolute;width: 1px;}#sk-container-id-6 div.sk-estimator {font-family: monospace;background-color: #f0f8ff;border: 1px dotted black;border-radius: 0.25em;box-sizing: border-box;margin-bottom: 0.5em;}#sk-container-id-6 div.sk-estimator:hover {background-color: #d4ebff;}#sk-container-id-6 div.sk-parallel-item::after {content: \"\";width: 100%;border-bottom: 1px solid gray;flex-grow: 1;}#sk-container-id-6 div.sk-label:hover label.sk-toggleable__label {background-color: #d4ebff;}#sk-container-id-6 div.sk-serial::before {content: \"\";position: absolute;border-left: 1px solid gray;box-sizing: border-box;top: 0;bottom: 0;left: 50%;z-index: 0;}#sk-container-id-6 div.sk-serial {display: flex;flex-direction: column;align-items: center;background-color: white;padding-right: 0.2em;padding-left: 0.2em;position: relative;}#sk-container-id-6 div.sk-item {position: relative;z-index: 1;}#sk-container-id-6 div.sk-parallel {display: flex;align-items: stretch;justify-content: center;background-color: white;position: relative;}#sk-container-id-6 div.sk-item::before, #sk-container-id-6 div.sk-parallel-item::before {content: \"\";position: absolute;border-left: 1px solid gray;box-sizing: border-box;top: 0;bottom: 0;left: 50%;z-index: -1;}#sk-container-id-6 div.sk-parallel-item {display: flex;flex-direction: column;z-index: 1;position: relative;background-color: white;}#sk-container-id-6 div.sk-parallel-item:first-child::after {align-self: flex-end;width: 50%;}#sk-container-id-6 div.sk-parallel-item:last-child::after {align-self: flex-start;width: 50%;}#sk-container-id-6 div.sk-parallel-item:only-child::after {width: 0;}#sk-container-id-6 div.sk-dashed-wrapped {border: 1px dashed gray;margin: 0 0.4em 0.5em 0.4em;box-sizing: border-box;padding-bottom: 0.4em;background-color: white;}#sk-container-id-6 div.sk-label label {font-family: monospace;font-weight: bold;display: inline-block;line-height: 1.2em;}#sk-container-id-6 div.sk-label-container {text-align: center;}#sk-container-id-6 div.sk-container {/* jupyter's `normalize.less` sets `[hidden] { display: none; }` but bootstrap.min.css set `[hidden] { display: none !important; }` so we also need the `!important` here to be able to override the default hidden behavior on the sphinx rendered scikit-learn.org. See: https://github.com/scikit-learn/scikit-learn/issues/21755 */display: inline-block !important;position: relative;}#sk-container-id-6 div.sk-text-repr-fallback {display: none;}</style><div id=\"sk-container-id-6\" class=\"sk-top-container\"><div class=\"sk-text-repr-fallback\"><pre>LogisticRegression()</pre><b>In a Jupyter environment, please rerun this cell to show the HTML representation or trust the notebook. <br />On GitHub, the HTML representation is unable to render, please try loading this page with nbviewer.org.</b></div><div class=\"sk-container\" hidden><div class=\"sk-item\"><div class=\"sk-estimator sk-toggleable\"><input class=\"sk-toggleable__control sk-hidden--visually\" id=\"sk-estimator-id-12\" type=\"checkbox\" checked><label for=\"sk-estimator-id-12\" class=\"sk-toggleable__label sk-toggleable__label-arrow\">LogisticRegression</label><div class=\"sk-toggleable__content\"><pre>LogisticRegression()</pre></div></div></div></div></div>"
      ],
      "text/plain": [
       "LogisticRegression()"
      ]
     },
     "execution_count": 70,
     "metadata": {},
     "output_type": "execute_result"
    }
   ],
   "source": [
    "logreg_cv.fit(x_cv_train, y_train)"
   ]
  },
  {
   "cell_type": "code",
   "execution_count": 71,
   "id": "609ca5a2-7063-41ff-af06-85c40f6b5600",
   "metadata": {},
   "outputs": [
    {
     "data": {
      "text/plain": [
       "1.0"
      ]
     },
     "execution_count": 71,
     "metadata": {},
     "output_type": "execute_result"
    }
   ],
   "source": [
    "logreg_cv.score(x_cv_train, y_train)"
   ]
  },
  {
   "cell_type": "code",
   "execution_count": 72,
   "id": "255fc46e-7873-4dfc-b3cd-2ab6430fd8a1",
   "metadata": {},
   "outputs": [
    {
     "data": {
      "text/plain": [
       "array([1, 1, 0, 1, 1, 0, 1, 1, 0, 0, 1, 0, 0, 0, 0, 0, 1, 0, 0, 1, 0, 0,\n",
       "       0, 0, 0, 0, 0, 0, 1, 1, 0, 1, 0, 0, 0, 1, 0, 0, 1, 0, 1, 0, 1, 1,\n",
       "       0, 1, 1, 0, 1, 0, 1, 1, 0, 0, 0, 1, 1, 0, 0, 1, 1, 0, 1, 0, 1, 1,\n",
       "       0, 0, 1, 0, 0, 1, 1, 0, 0, 0, 1, 0, 0, 1, 1, 1, 0, 1, 0, 1, 1, 0,\n",
       "       1, 1, 1, 1, 0, 1, 1, 0, 1, 1, 1, 1, 0, 1, 0, 0, 0, 0, 0, 1, 0, 0,\n",
       "       0, 0], dtype=int64)"
      ]
     },
     "execution_count": 72,
     "metadata": {},
     "output_type": "execute_result"
    }
   ],
   "source": [
    "logreg_cv.predict(x_cv_test)"
   ]
  },
  {
   "cell_type": "code",
   "execution_count": 73,
   "id": "531892ae-70c9-45a2-bcec-67b62621fa73",
   "metadata": {},
   "outputs": [],
   "source": [
    "logreg_cv.predict_proba(x_cv_test);"
   ]
  },
  {
   "cell_type": "code",
   "execution_count": 75,
   "id": "b0db379f-1d3a-40e8-8ed4-4736db728c04",
   "metadata": {},
   "outputs": [
    {
     "name": "stdout",
     "output_type": "stream",
     "text": [
      "Score train: 1.0\n",
      "Score test: 0.9642857142857143\n"
     ]
    },
    {
     "data": {
      "image/png": "[encoded data removed]",
      "text/plain": [
       "<Figure size 640x480 with 1 Axes>"
      ]
     },
     "metadata": {},
     "output_type": "display_data"
    }
   ],
   "source": [
    "print(f'Score train: {logreg_cv.score(x_cv_train,y_train)}')\n",
    "print(f'Score test: {logreg_cv.score(x_cv_test,y_test)}')\n",
    "plot_confusion_matrix(confusion_matrix(y_test,(logreg_cv.predict(x_cv_test))))"
   ]
  },
  {
   "cell_type": "markdown",
   "id": "f8f14ec3-3589-4f45-bad9-12a0f991dc31",
   "metadata": {
    "tags": []
   },
   "source": [
    "##  Useing pipeline with TF-IDF by different method\n",
    "$$\\text{tf-idf}(t_i,d_j) = \\frac{f_{t_i,d_j}}{\\sum_{t'\\in d_j}f_{t',d_j}} \\cdot \\Bigl(\\log\\Bigl[{\\frac{N+1}{n_t + 1}\\Bigr]+1}\\Bigr)$$"
   ]
  },
  {
   "cell_type": "code",
   "execution_count": 154,
   "id": "8dd0f09a-d686-446a-9e75-33576515c393",
   "metadata": {},
   "outputs": [],
   "source": [
    "# Create a model pipeline with TfidfVectorizer  with RandomForestClassifier \n",
    "tfidf = TfidfVectorizer(lowercase=True, stop_words='english', token_pattern='[A-Za-z]+', ngram_range=(1,1))\n",
    "model=RandomForestClassifier(n_estimators=120, max_depth=4)\n",
    "pip_R_Forest = make_pipeline(tfidf,model)"
   ]
  },
  {
   "cell_type": "code",
   "execution_count": 155,
   "id": "b7ed5330-0a67-4dfb-8711-db601fdcab8a",
   "metadata": {},
   "outputs": [
    {
     "data": {
      "text/html": [
       "<style>#sk-container-id-16 {color: black;background-color: white;}#sk-container-id-16 pre{padding: 0;}#sk-container-id-16 div.sk-toggleable {background-color: white;}#sk-container-id-16 label.sk-toggleable__label {cursor: pointer;display: block;width: 100%;margin-bottom: 0;padding: 0.3em;box-sizing: border-box;text-align: center;}#sk-container-id-16 label.sk-toggleable__label-arrow:before {content: \"▸\";float: left;margin-right: 0.25em;color: #696969;}#sk-container-id-16 label.sk-toggleable__label-arrow:hover:before {color: black;}#sk-container-id-16 div.sk-estimator:hover label.sk-toggleable__label-arrow:before {color: black;}#sk-container-id-16 div.sk-toggleable__content {max-height: 0;max-width: 0;overflow: hidden;text-align: left;background-color: #f0f8ff;}#sk-container-id-16 div.sk-toggleable__content pre {margin: 0.2em;color: black;border-radius: 0.25em;background-color: #f0f8ff;}#sk-container-id-16 input.sk-toggleable__control:checked~div.sk-toggleable__content {max-height: 200px;max-width: 100%;overflow: auto;}#sk-container-id-16 input.sk-toggleable__control:checked~label.sk-toggleable__label-arrow:before {content: \"▾\";}#sk-container-id-16 div.sk-estimator input.sk-toggleable__control:checked~label.sk-toggleable__label {background-color: #d4ebff;}#sk-container-id-16 div.sk-label input.sk-toggleable__control:checked~label.sk-toggleable__label {background-color: #d4ebff;}#sk-container-id-16 input.sk-hidden--visually {border: 0;clip: rect(1px 1px 1px 1px);clip: rect(1px, 1px, 1px, 1px);height: 1px;margin: -1px;overflow: hidden;padding: 0;position: absolute;width: 1px;}#sk-container-id-16 div.sk-estimator {font-family: monospace;background-color: #f0f8ff;border: 1px dotted black;border-radius: 0.25em;box-sizing: border-box;margin-bottom: 0.5em;}#sk-container-id-16 div.sk-estimator:hover {background-color: #d4ebff;}#sk-container-id-16 div.sk-parallel-item::after {content: \"\";width: 100%;border-bottom: 1px solid gray;flex-grow: 1;}#sk-container-id-16 div.sk-label:hover label.sk-toggleable__label {background-color: #d4ebff;}#sk-container-id-16 div.sk-serial::before {content: \"\";position: absolute;border-left: 1px solid gray;box-sizing: border-box;top: 0;bottom: 0;left: 50%;z-index: 0;}#sk-container-id-16 div.sk-serial {display: flex;flex-direction: column;align-items: center;background-color: white;padding-right: 0.2em;padding-left: 0.2em;position: relative;}#sk-container-id-16 div.sk-item {position: relative;z-index: 1;}#sk-container-id-16 div.sk-parallel {display: flex;align-items: stretch;justify-content: center;background-color: white;position: relative;}#sk-container-id-16 div.sk-item::before, #sk-container-id-16 div.sk-parallel-item::before {content: \"\";position: absolute;border-left: 1px solid gray;box-sizing: border-box;top: 0;bottom: 0;left: 50%;z-index: -1;}#sk-container-id-16 div.sk-parallel-item {display: flex;flex-direction: column;z-index: 1;position: relative;background-color: white;}#sk-container-id-16 div.sk-parallel-item:first-child::after {align-self: flex-end;width: 50%;}#sk-container-id-16 div.sk-parallel-item:last-child::after {align-self: flex-start;width: 50%;}#sk-container-id-16 div.sk-parallel-item:only-child::after {width: 0;}#sk-container-id-16 div.sk-dashed-wrapped {border: 1px dashed gray;margin: 0 0.4em 0.5em 0.4em;box-sizing: border-box;padding-bottom: 0.4em;background-color: white;}#sk-container-id-16 div.sk-label label {font-family: monospace;font-weight: bold;display: inline-block;line-height: 1.2em;}#sk-container-id-16 div.sk-label-container {text-align: center;}#sk-container-id-16 div.sk-container {/* jupyter's `normalize.less` sets `[hidden] { display: none; }` but bootstrap.min.css set `[hidden] { display: none !important; }` so we also need the `!important` here to be able to override the default hidden behavior on the sphinx rendered scikit-learn.org. See: https://github.com/scikit-learn/scikit-learn/issues/21755 */display: inline-block !important;position: relative;}#sk-container-id-16 div.sk-text-repr-fallback {display: none;}</style><div id=\"sk-container-id-16\" class=\"sk-top-container\"><div class=\"sk-text-repr-fallback\"><pre>Pipeline(steps=[(&#x27;tfidfvectorizer&#x27;,\n",
       "                 TfidfVectorizer(stop_words=&#x27;english&#x27;,\n",
       "                                 token_pattern=&#x27;[A-Za-z]+&#x27;)),\n",
       "                (&#x27;randomforestclassifier&#x27;,\n",
       "                 RandomForestClassifier(max_depth=4, n_estimators=120))])</pre><b>In a Jupyter environment, please rerun this cell to show the HTML representation or trust the notebook. <br />On GitHub, the HTML representation is unable to render, please try loading this page with nbviewer.org.</b></div><div class=\"sk-container\" hidden><div class=\"sk-item sk-dashed-wrapped\"><div class=\"sk-label-container\"><div class=\"sk-label sk-toggleable\"><input class=\"sk-toggleable__control sk-hidden--visually\" id=\"sk-estimator-id-40\" type=\"checkbox\" ><label for=\"sk-estimator-id-40\" class=\"sk-toggleable__label sk-toggleable__label-arrow\">Pipeline</label><div class=\"sk-toggleable__content\"><pre>Pipeline(steps=[(&#x27;tfidfvectorizer&#x27;,\n",
       "                 TfidfVectorizer(stop_words=&#x27;english&#x27;,\n",
       "                                 token_pattern=&#x27;[A-Za-z]+&#x27;)),\n",
       "                (&#x27;randomforestclassifier&#x27;,\n",
       "                 RandomForestClassifier(max_depth=4, n_estimators=120))])</pre></div></div></div><div class=\"sk-serial\"><div class=\"sk-item\"><div class=\"sk-estimator sk-toggleable\"><input class=\"sk-toggleable__control sk-hidden--visually\" id=\"sk-estimator-id-41\" type=\"checkbox\" ><label for=\"sk-estimator-id-41\" class=\"sk-toggleable__label sk-toggleable__label-arrow\">TfidfVectorizer</label><div class=\"sk-toggleable__content\"><pre>TfidfVectorizer(stop_words=&#x27;english&#x27;, token_pattern=&#x27;[A-Za-z]+&#x27;)</pre></div></div></div><div class=\"sk-item\"><div class=\"sk-estimator sk-toggleable\"><input class=\"sk-toggleable__control sk-hidden--visually\" id=\"sk-estimator-id-42\" type=\"checkbox\" ><label for=\"sk-estimator-id-42\" class=\"sk-toggleable__label sk-toggleable__label-arrow\">RandomForestClassifier</label><div class=\"sk-toggleable__content\"><pre>RandomForestClassifier(max_depth=4, n_estimators=120)</pre></div></div></div></div></div></div></div>"
      ],
      "text/plain": [
       "Pipeline(steps=[('tfidfvectorizer',\n",
       "                 TfidfVectorizer(stop_words='english',\n",
       "                                 token_pattern='[A-Za-z]+')),\n",
       "                ('randomforestclassifier',\n",
       "                 RandomForestClassifier(max_depth=4, n_estimators=120))])"
      ]
     },
     "execution_count": 155,
     "metadata": {},
     "output_type": "execute_result"
    }
   ],
   "source": [
    "pip_R_Forest.fit(x_train[0].values,y_train)"
   ]
  },
  {
   "cell_type": "code",
   "execution_count": 186,
   "id": "59d296bf-9e3b-4d2c-94d6-f9ec83336a6e",
   "metadata": {},
   "outputs": [
    {
     "data": {
      "text/plain": [
       "0.9285714285714286"
      ]
     },
     "execution_count": 186,
     "metadata": {},
     "output_type": "execute_result"
    }
   ],
   "source": [
    "pip_R_Forest.score(x_train[0].values,y_train)"
   ]
  },
  {
   "cell_type": "code",
   "execution_count": 187,
   "id": "85522377-7bcb-458d-8f69-9d80db99f855",
   "metadata": {},
   "outputs": [
    {
     "data": {
      "text/plain": [
       "array([1, 1, 0, 1, 1, 0, 1, 0, 0, 0, 1, 0, 0, 0, 0, 0, 1, 0, 0, 1, 0, 0,\n",
       "       0, 0, 0, 0, 0, 0, 0, 1, 0, 1, 0, 0, 0, 1, 0, 0, 1, 0, 1, 0, 1, 0,\n",
       "       0, 1, 1, 0, 0, 0, 1, 1, 0, 0, 0, 1, 0, 0, 0, 1, 1, 0, 1, 0, 1, 0,\n",
       "       0, 0, 1, 0, 0, 1, 1, 0, 0, 0, 1, 0, 0, 1, 1, 1, 0, 1, 0, 1, 1, 0,\n",
       "       1, 1, 1, 1, 0, 1, 0, 0, 1, 1, 1, 1, 0, 0, 0, 0, 0, 0, 0, 1, 0, 0,\n",
       "       0, 0], dtype=int64)"
      ]
     },
     "execution_count": 187,
     "metadata": {},
     "output_type": "execute_result"
    }
   ],
   "source": [
    "pip_R_Forest.predict(x_test[0].values)"
   ]
  },
  {
   "cell_type": "code",
   "execution_count": 158,
   "id": "f74a064a-7312-4acb-8a29-0ed7f320d083",
   "metadata": {},
   "outputs": [],
   "source": [
    "pip_R_Forest.predict_proba(x_test[0].values);"
   ]
  },
  {
   "cell_type": "code",
   "execution_count": 159,
   "id": "0c789e61-298f-4305-8162-c7b1dcef531b",
   "metadata": {},
   "outputs": [
    {
     "data": {
      "text/plain": [
       "0.8928571428571429"
      ]
     },
     "execution_count": 159,
     "metadata": {},
     "output_type": "execute_result"
    }
   ],
   "source": [
    "pip_R_Forest.score(x_test[0].values,y_test)"
   ]
  },
  {
   "cell_type": "markdown",
   "id": "64a1429b-413d-4f82-9e52-caae1241afbb",
   "metadata": {},
   "source": [
    "#### Ploting RandomForestClassifier"
   ]
  },
  {
   "cell_type": "code",
   "execution_count": 176,
   "id": "62e6a70e-5c23-4684-b3d7-3277681cdc19",
   "metadata": {},
   "outputs": [
    {
     "name": "stdout",
     "output_type": "stream",
     "text": [
      "Score train: 0.9285714285714286\n",
      "Score test: 0.9553571428571429\n"
     ]
    },
    {
     "data": {
      "image/png": "[encoded data removed]",
      "text/plain": [
       "<Figure size 640x480 with 1 Axes>"
      ]
     },
     "metadata": {},
     "output_type": "display_data"
    },
    {
     "data": {
      "image/png": "[encoded data removed]",
      "text/plain": [
       "<Figure size 640x480 with 1 Axes>"
      ]
     },
     "metadata": {},
     "output_type": "display_data"
    }
   ],
   "source": [
    "plot_confusion_matrix(confusion_matrix(y_train,(pipeline.predict(x_train[0].values))))\n",
    "print(f'Score train: {pip_R_Forest.score(x_train[0].values,y_train)}')\n",
    "plot_confusion_matrix(confusion_matrix(y_test,(pipeline.predict(x_test[0].values))))\n",
    "print(f'Score test: {pipeline.score(x_test[0].values,y_test)}')"
   ]
  }
 ],
 "metadata": {
  "kernelspec": {
   "display_name": "Python 3 (ipykernel)",
   "language": "python",
   "name": "python3"
  },
  "language_info": {
   "codemirror_mode": {
    "name": "ipython",
    "version": 3
   },
   "file_extension": ".py",
   "mimetype": "text/x-python",
   "name": "python",
   "nbconvert_exporter": "python",
   "pygments_lexer": "ipython3",
   "version": "3.10.8"
  },
  "vscode": {
   "interpreter": {
    "hash": "0c1efea12ef12400a1900be78d4e2fd35ed9f92950c81ef320b6f458c78e1e3d"
   }
  }
 },
 "nbformat": 4,
 "nbformat_minor": 5
}
